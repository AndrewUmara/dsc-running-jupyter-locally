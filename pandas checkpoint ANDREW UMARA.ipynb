{
 "cells": [
  {
   "cell_type": "markdown",
   "metadata": {
    "nbgrader": {
     "grade": false,
     "grade_id": "cell-38aef0e149c8faf8",
     "locked": true,
     "schema_version": 3,
     "solution": false,
     "task": false
    }
   },
   "source": [
    "# Pandas EDA Checkpoint\n",
    "\n",
    "This checkpoint is designed to test your understanding of the content from the EDA with Pandas Cumulative Lab.\n",
    "\n",
    "Specifically, this will cover:\n",
    "\n",
    "* Using pandas to load data\n",
    "* Using pandas to engineer a new feature of a dataset\n",
    "* Using pandas methods and attributes to access information about a dataset\n",
    "\n",
    "\n",
    "## Your Task: Explore Price per Square Foot and Neighborhoods using `pandas`\n",
    "\n",
    "### Data Understanding\n",
    "\n",
    "In this repository under the file path `ames_housing.csv` there is a CSV file containing the Ames Housing dataset. This is the same dataset you have worked with previously, but the file path may differ!\n",
    "\n",
    "The features of interest for this analysis will be:\n",
    "\n",
    "**SalePrice**: `Sale price of the house in dollars`\n",
    "\n",
    "**GrLivArea:** `Above grade (ground) living area square feet`\n",
    "\n",
    "**Neighborhood:** `Physical locations within Ames city limits`\n",
    "\n",
    "### Requirements\n",
    "\n",
    "#### 1. Import the Relevant Library\n",
    "\n",
    "#### 2. Load the Data into a DataFrame Called `housing_data`\n",
    "\n",
    "#### 3. Create a New Column `price_per_square_ft`\n",
    "\n",
    "#### 4. Find the Mean Price per Square Foot\n",
    "\n",
    "#### 5. Plot Price per Square Foot for Select Neighborhoods\n",
    "\n",
    "#### 6. Find the Most Common Neighborhood"
   ]
  },
  {
   "cell_type": "markdown",
   "metadata": {
    "nbgrader": {
     "grade": false,
     "grade_id": "cell-1cc665f5397426b9",
     "locked": true,
     "schema_version": 3,
     "solution": false,
     "task": false
    }
   },
   "source": [
    "## 1. Import the Relevant Library\n",
    "\n",
    "In the cell below, import the `pandas` library using the standard alias `pd`."
   ]
  },
  {
   "cell_type": "code",
   "execution_count": 1,
   "metadata": {},
   "outputs": [],
   "source": [
    "# CodeGrade step1\n",
    "# Import pandas with the standard alias.\n",
    "import pandas as pd\n"
   ]
  },
  {
   "cell_type": "markdown",
   "metadata": {
    "nbgrader": {
     "grade": false,
     "grade_id": "cell-1182550fe3461718",
     "locked": true,
     "schema_version": 3,
     "solution": false,
     "task": false
    }
   },
   "source": [
    "## 2. Load the Data into a DataFrame Called `housing_data`\n",
    "\n",
    "The file path is `ames_housing.csv`. Use pandas ([documentation here](https://pandas.pydata.org/docs/reference/api/pandas.read_csv.html)) to read in the data from this CSV file and create a dataframe named `housing_data`."
   ]
  },
  {
   "cell_type": "code",
   "execution_count": 4,
   "metadata": {
    "nbgrader": {
     "grade": false,
     "grade_id": "cell-e6bf58861fbda828",
     "locked": false,
     "schema_version": 3,
     "solution": true,
     "task": false
    },
    "scrolled": true
   },
   "outputs": [
    {
     "data": {
      "text/html": [
       "<div>\n",
       "<style scoped>\n",
       "    .dataframe tbody tr th:only-of-type {\n",
       "        vertical-align: middle;\n",
       "    }\n",
       "\n",
       "    .dataframe tbody tr th {\n",
       "        vertical-align: top;\n",
       "    }\n",
       "\n",
       "    .dataframe thead th {\n",
       "        text-align: right;\n",
       "    }\n",
       "</style>\n",
       "<table border=\"1\" class=\"dataframe\">\n",
       "  <thead>\n",
       "    <tr style=\"text-align: right;\">\n",
       "      <th></th>\n",
       "      <th>Id</th>\n",
       "      <th>MSSubClass</th>\n",
       "      <th>MSZoning</th>\n",
       "      <th>LotFrontage</th>\n",
       "      <th>LotArea</th>\n",
       "      <th>Street</th>\n",
       "      <th>Alley</th>\n",
       "      <th>LotShape</th>\n",
       "      <th>LandContour</th>\n",
       "      <th>Utilities</th>\n",
       "      <th>...</th>\n",
       "      <th>PoolArea</th>\n",
       "      <th>PoolQC</th>\n",
       "      <th>Fence</th>\n",
       "      <th>MiscFeature</th>\n",
       "      <th>MiscVal</th>\n",
       "      <th>MoSold</th>\n",
       "      <th>YrSold</th>\n",
       "      <th>SaleType</th>\n",
       "      <th>SaleCondition</th>\n",
       "      <th>SalePrice</th>\n",
       "    </tr>\n",
       "  </thead>\n",
       "  <tbody>\n",
       "    <tr>\n",
       "      <th>0</th>\n",
       "      <td>1</td>\n",
       "      <td>60</td>\n",
       "      <td>RL</td>\n",
       "      <td>65.0</td>\n",
       "      <td>8450</td>\n",
       "      <td>Pave</td>\n",
       "      <td>NaN</td>\n",
       "      <td>Reg</td>\n",
       "      <td>Lvl</td>\n",
       "      <td>AllPub</td>\n",
       "      <td>...</td>\n",
       "      <td>0</td>\n",
       "      <td>NaN</td>\n",
       "      <td>NaN</td>\n",
       "      <td>NaN</td>\n",
       "      <td>0</td>\n",
       "      <td>2</td>\n",
       "      <td>2008</td>\n",
       "      <td>WD</td>\n",
       "      <td>Normal</td>\n",
       "      <td>208500</td>\n",
       "    </tr>\n",
       "    <tr>\n",
       "      <th>1</th>\n",
       "      <td>2</td>\n",
       "      <td>20</td>\n",
       "      <td>RL</td>\n",
       "      <td>80.0</td>\n",
       "      <td>9600</td>\n",
       "      <td>Pave</td>\n",
       "      <td>NaN</td>\n",
       "      <td>Reg</td>\n",
       "      <td>Lvl</td>\n",
       "      <td>AllPub</td>\n",
       "      <td>...</td>\n",
       "      <td>0</td>\n",
       "      <td>NaN</td>\n",
       "      <td>NaN</td>\n",
       "      <td>NaN</td>\n",
       "      <td>0</td>\n",
       "      <td>5</td>\n",
       "      <td>2007</td>\n",
       "      <td>WD</td>\n",
       "      <td>Normal</td>\n",
       "      <td>181500</td>\n",
       "    </tr>\n",
       "    <tr>\n",
       "      <th>2</th>\n",
       "      <td>3</td>\n",
       "      <td>60</td>\n",
       "      <td>RL</td>\n",
       "      <td>68.0</td>\n",
       "      <td>11250</td>\n",
       "      <td>Pave</td>\n",
       "      <td>NaN</td>\n",
       "      <td>IR1</td>\n",
       "      <td>Lvl</td>\n",
       "      <td>AllPub</td>\n",
       "      <td>...</td>\n",
       "      <td>0</td>\n",
       "      <td>NaN</td>\n",
       "      <td>NaN</td>\n",
       "      <td>NaN</td>\n",
       "      <td>0</td>\n",
       "      <td>9</td>\n",
       "      <td>2008</td>\n",
       "      <td>WD</td>\n",
       "      <td>Normal</td>\n",
       "      <td>223500</td>\n",
       "    </tr>\n",
       "    <tr>\n",
       "      <th>3</th>\n",
       "      <td>4</td>\n",
       "      <td>70</td>\n",
       "      <td>RL</td>\n",
       "      <td>60.0</td>\n",
       "      <td>9550</td>\n",
       "      <td>Pave</td>\n",
       "      <td>NaN</td>\n",
       "      <td>IR1</td>\n",
       "      <td>Lvl</td>\n",
       "      <td>AllPub</td>\n",
       "      <td>...</td>\n",
       "      <td>0</td>\n",
       "      <td>NaN</td>\n",
       "      <td>NaN</td>\n",
       "      <td>NaN</td>\n",
       "      <td>0</td>\n",
       "      <td>2</td>\n",
       "      <td>2006</td>\n",
       "      <td>WD</td>\n",
       "      <td>Abnorml</td>\n",
       "      <td>140000</td>\n",
       "    </tr>\n",
       "    <tr>\n",
       "      <th>4</th>\n",
       "      <td>5</td>\n",
       "      <td>60</td>\n",
       "      <td>RL</td>\n",
       "      <td>84.0</td>\n",
       "      <td>14260</td>\n",
       "      <td>Pave</td>\n",
       "      <td>NaN</td>\n",
       "      <td>IR1</td>\n",
       "      <td>Lvl</td>\n",
       "      <td>AllPub</td>\n",
       "      <td>...</td>\n",
       "      <td>0</td>\n",
       "      <td>NaN</td>\n",
       "      <td>NaN</td>\n",
       "      <td>NaN</td>\n",
       "      <td>0</td>\n",
       "      <td>12</td>\n",
       "      <td>2008</td>\n",
       "      <td>WD</td>\n",
       "      <td>Normal</td>\n",
       "      <td>250000</td>\n",
       "    </tr>\n",
       "  </tbody>\n",
       "</table>\n",
       "<p>5 rows × 81 columns</p>\n",
       "</div>"
      ],
      "text/plain": [
       "   Id  MSSubClass MSZoning  LotFrontage  LotArea Street Alley LotShape  \\\n",
       "0   1          60       RL         65.0     8450   Pave   NaN      Reg   \n",
       "1   2          20       RL         80.0     9600   Pave   NaN      Reg   \n",
       "2   3          60       RL         68.0    11250   Pave   NaN      IR1   \n",
       "3   4          70       RL         60.0     9550   Pave   NaN      IR1   \n",
       "4   5          60       RL         84.0    14260   Pave   NaN      IR1   \n",
       "\n",
       "  LandContour Utilities  ... PoolArea PoolQC Fence MiscFeature MiscVal MoSold  \\\n",
       "0         Lvl    AllPub  ...        0    NaN   NaN         NaN       0      2   \n",
       "1         Lvl    AllPub  ...        0    NaN   NaN         NaN       0      5   \n",
       "2         Lvl    AllPub  ...        0    NaN   NaN         NaN       0      9   \n",
       "3         Lvl    AllPub  ...        0    NaN   NaN         NaN       0      2   \n",
       "4         Lvl    AllPub  ...        0    NaN   NaN         NaN       0     12   \n",
       "\n",
       "  YrSold  SaleType  SaleCondition  SalePrice  \n",
       "0   2008        WD         Normal     208500  \n",
       "1   2007        WD         Normal     181500  \n",
       "2   2008        WD         Normal     223500  \n",
       "3   2006        WD        Abnorml     140000  \n",
       "4   2008        WD         Normal     250000  \n",
       "\n",
       "[5 rows x 81 columns]"
      ]
     },
     "execution_count": 4,
     "metadata": {},
     "output_type": "execute_result"
    }
   ],
   "source": [
    "# CodeGrade step2\n",
    "# Replace None with appropriate code\n",
    "\n",
    "housing_data = df = pd.read_csv('ames_housing.csv')\n",
    "housing_data.head()"
   ]
  },
  {
   "cell_type": "code",
   "execution_count": null,
   "metadata": {},
   "outputs": [],
   "source": []
  },
  {
   "cell_type": "markdown",
   "metadata": {
    "nbgrader": {
     "grade": false,
     "grade_id": "cell-8e30956aab0ad9dd",
     "locked": true,
     "schema_version": 3,
     "solution": false,
     "task": false
    }
   },
   "source": [
    "## 3. Create a New Column `price_per_square_ft`\n",
    "\n",
    "Create a new column of the dataframe that represents the price per square foot of the house.\n",
    "\n",
    "Here you define price per square foot as the `SalePrice` divided by the `GrLivArea`.\n",
    "\n",
    "The new column should be called `price_per_square_ft`."
   ]
  },
  {
   "cell_type": "code",
   "execution_count": 7,
   "metadata": {},
   "outputs": [],
   "source": [
    "# CodeGrade step3\n",
    "# Put your code here!\n",
    "df['price_per_square_ft'] = df['SalePrice'] / df['LotArea']"
   ]
  },
  {
   "cell_type": "code",
   "execution_count": 18,
   "metadata": {},
   "outputs": [
    {
     "name": "stdout",
     "output_type": "stream",
     "text": [
      "        Id  MSSubClass MSZoning  LotFrontage  LotArea Street Alley LotShape  \\\n",
      "0        1          60       RL         65.0     8450   Pave   NaN      Reg   \n",
      "1        2          20       RL         80.0     9600   Pave   NaN      Reg   \n",
      "2        3          60       RL         68.0    11250   Pave   NaN      IR1   \n",
      "3        4          70       RL         60.0     9550   Pave   NaN      IR1   \n",
      "4        5          60       RL         84.0    14260   Pave   NaN      IR1   \n",
      "...    ...         ...      ...          ...      ...    ...   ...      ...   \n",
      "1455  1456          60       RL         62.0     7917   Pave   NaN      Reg   \n",
      "1456  1457          20       RL         85.0    13175   Pave   NaN      Reg   \n",
      "1457  1458          70       RL         66.0     9042   Pave   NaN      Reg   \n",
      "1458  1459          20       RL         68.0     9717   Pave   NaN      Reg   \n",
      "1459  1460          20       RL         75.0     9937   Pave   NaN      Reg   \n",
      "\n",
      "     LandContour Utilities  ... PoolQC  Fence MiscFeature MiscVal MoSold  \\\n",
      "0            Lvl    AllPub  ...    NaN    NaN         NaN       0      2   \n",
      "1            Lvl    AllPub  ...    NaN    NaN         NaN       0      5   \n",
      "2            Lvl    AllPub  ...    NaN    NaN         NaN       0      9   \n",
      "3            Lvl    AllPub  ...    NaN    NaN         NaN       0      2   \n",
      "4            Lvl    AllPub  ...    NaN    NaN         NaN       0     12   \n",
      "...          ...       ...  ...    ...    ...         ...     ...    ...   \n",
      "1455         Lvl    AllPub  ...    NaN    NaN         NaN       0      8   \n",
      "1456         Lvl    AllPub  ...    NaN  MnPrv         NaN       0      2   \n",
      "1457         Lvl    AllPub  ...    NaN  GdPrv        Shed    2500      5   \n",
      "1458         Lvl    AllPub  ...    NaN    NaN         NaN       0      4   \n",
      "1459         Lvl    AllPub  ...    NaN    NaN         NaN       0      6   \n",
      "\n",
      "     YrSold SaleType  SaleCondition  SalePrice  price_per_square_ft  \n",
      "0      2008       WD         Normal     208500            24.674556  \n",
      "1      2007       WD         Normal     181500            18.906250  \n",
      "2      2008       WD         Normal     223500            19.866667  \n",
      "3      2006       WD        Abnorml     140000            14.659686  \n",
      "4      2008       WD         Normal     250000            17.531557  \n",
      "...     ...      ...            ...        ...                  ...  \n",
      "1455   2007       WD         Normal     175000            22.104332  \n",
      "1456   2010       WD         Normal     210000            15.939279  \n",
      "1457   2010       WD         Normal     266500            29.473568  \n",
      "1458   2010       WD         Normal     142125            14.626428  \n",
      "1459   2008       WD         Normal     147500            14.843514  \n",
      "\n",
      "[1460 rows x 82 columns]\n"
     ]
    },
    {
     "data": {
      "text/plain": [
       "False"
      ]
     },
     "execution_count": 18,
     "metadata": {},
     "output_type": "execute_result"
    }
   ],
   "source": [
    " print(housing_data) == pd.DataFrame"
   ]
  },
  {
   "cell_type": "markdown",
   "metadata": {
    "nbgrader": {
     "grade": false,
     "grade_id": "cell-1db126edbed1b46a",
     "locked": true,
     "schema_version": 3,
     "solution": false,
     "task": false
    }
   },
   "source": [
    "## 4. Find the Mean Price per Square Foot\n",
    "\n",
    "Assign the value of the mean price per square foot to the variable `mean_price_per_square_ft`."
   ]
  },
  {
   "cell_type": "code",
   "execution_count": 17,
   "metadata": {
    "nbgrader": {
     "grade": false,
     "grade_id": "cell-5800a8f32ae57237",
     "locked": false,
     "schema_version": 3,
     "solution": true,
     "task": false
    }
   },
   "outputs": [
    {
     "name": "stdout",
     "output_type": "stream",
     "text": [
      "Mean Price per Square Foot: 21.06987836020315\n"
     ]
    }
   ],
   "source": [
    "# CodeGrade step4\n",
    "# Replace None with appropriate code\n",
    "\n",
    "mean_price_per_square_ft = df['price_per_square_ft'].mean()\n",
    "print(\"Mean Price per Square Foot:\", mean_price_per_square_ft)"
   ]
  },
  {
   "cell_type": "code",
   "execution_count": 20,
   "metadata": {},
   "outputs": [],
   "source": [
    "import numpy as np\n",
    "# mean price per square foot should be a floating point number\n",
    "mean_price_per_square_ft = df['price_per_square_ft'].mean()\n",
    "\n",
    "assert isinstance(mean_price_per_square_ft, (float, np.float64))"
   ]
  },
  {
   "cell_type": "markdown",
   "metadata": {
    "nbgrader": {
     "grade": false,
     "grade_id": "cell-80f2c1a2c30fde50",
     "locked": true,
     "schema_version": 3,
     "solution": false,
     "task": false
    }
   },
   "source": [
    "## 5. Plot Price per Square Foot for Select Neighborhoods\n",
    "\n",
    "The plotting code in the cell below is mostly completed for you. You are creating a bar graph showing the average price per square foot by neighborhood, for six specific neighborhoods in West Ames.\n",
    "\n",
    "You will use `pd.DataFrame.plot.bar` ([documentation here](https://pandas.pydata.org/docs/reference/api/pandas.DataFrame.plot.bar.html)).\n",
    "\n",
    "What is the name of the column (as a string) that you would put into the `x` and `y` parameters of this graph?\n",
    "\n",
    "The plot this creates should look like this:\n",
    "\n",
    "![neighborhood plot](https://curriculum-content.s3.amazonaws.com/data-science/images/neighborhood_plot.png)\n",
    "\n",
    "(Don't worry too much about the subsetting and grouping that is happening here. `x` and `y` are column names that exist in the full `housing_data` dataframe as well as the `grouped_by_neighborhood` subset.)"
   ]
  },
  {
   "cell_type": "code",
   "execution_count": null,
   "metadata": {
    "nbgrader": {
     "grade": false,
     "grade_id": "cell-b7d0ae9ca0da966f",
     "locked": false,
     "schema_version": 3,
     "solution": true,
     "task": false
    }
   },
   "outputs": [],
   "source": [
    "# CodeGrade step5\n",
    "# Replace None with appropriate code\n",
    "\n",
    "x = \"Neighborhood\"\n",
    "y = \"price_per_square_ft\"\n",
    "\n",
    "# Plotting code (do not edit)\n",
    "subset = housing_data[housing_data[\"Neighborhood\"].isin([\n",
    "    \"SawyerW\", \"Sawyer\", \"ClearCr\", \"CollgCr\", \"Edwards\", \"SWISU\"\n",
    "])]\n",
    "grouped_by_neighborhood = subset.groupby(\"Neighborhood\").mean(numeric_only=True).reset_index()\n",
    "ax = grouped_by_neighborhood.plot.bar(x=x, y=y, rot=0, title=\"Prices per Square Foot in West Ames\");"
   ]
  },
  {
   "cell_type": "code",
   "execution_count": 37,
   "metadata": {},
   "outputs": [
    {
     "ename": "NameError",
     "evalue": "name 'Neighborhood' is not defined",
     "output_type": "error",
     "traceback": [
      "\u001b[1;31m---------------------------------------------------------------------------\u001b[0m",
      "\u001b[1;31mNameError\u001b[0m                                 Traceback (most recent call last)",
      "\u001b[1;32m<ipython-input-37-66914a88e1db>\u001b[0m in \u001b[0;36m<module>\u001b[1;34m\u001b[0m\n\u001b[0;32m      1\u001b[0m \u001b[1;31m# x and y should be strings\u001b[0m\u001b[1;33m\u001b[0m\u001b[1;33m\u001b[0m\u001b[1;33m\u001b[0m\u001b[0m\n\u001b[1;32m----> 2\u001b[1;33m \u001b[1;32massert\u001b[0m \u001b[0mtype\u001b[0m\u001b[1;33m(\u001b[0m\u001b[0mNeighborhood\u001b[0m\u001b[1;33m)\u001b[0m \u001b[1;33m==\u001b[0m \u001b[0mstr\u001b[0m\u001b[1;33m\u001b[0m\u001b[1;33m\u001b[0m\u001b[0m\n\u001b[0m\u001b[0;32m      3\u001b[0m \u001b[1;32massert\u001b[0m \u001b[0mtype\u001b[0m\u001b[1;33m(\u001b[0m\u001b[0mprice_per_square_ft\u001b[0m\u001b[1;33m)\u001b[0m \u001b[1;33m==\u001b[0m \u001b[0mstr\u001b[0m\u001b[1;33m\u001b[0m\u001b[1;33m\u001b[0m\u001b[0m\n\u001b[0;32m      4\u001b[0m \u001b[1;33m\u001b[0m\u001b[0m\n\u001b[0;32m      5\u001b[0m \u001b[1;31m# x and y should be names of columns\u001b[0m\u001b[1;33m\u001b[0m\u001b[1;33m\u001b[0m\u001b[1;33m\u001b[0m\u001b[0m\n",
      "\u001b[1;31mNameError\u001b[0m: name 'Neighborhood' is not defined"
     ]
    }
   ],
   "source": [
    "# x and y should be strings\n",
    "assert type(Neighborhood) == str\n",
    "assert type(price_per_square_ft) == str\n",
    "\n",
    "# x and y should be names of columns\n",
    "assert Neighbourhood in housing_data.columns\n",
    "assert price_per_square_ft in housing_data.columns"
   ]
  },
  {
   "cell_type": "markdown",
   "metadata": {
    "nbgrader": {
     "grade": false,
     "grade_id": "cell-03bfbdcc8992e6f1",
     "locked": true,
     "schema_version": 3,
     "solution": false,
     "task": false
    }
   },
   "source": [
    "## 6. Find the Most Common Neighborhood\n",
    "\n",
    "Using the `Neighborhood` column, find the name of the neighborhood that occurs most frequently in this dataset.\n",
    "\n",
    "Assign `name` to the name of the neighborhood (a string) and `frequency` to the number of times that neighborhood appears (an integer).\n",
    "\n",
    "If you're getting stuck, check out [this method](https://pandas.pydata.org/pandas-docs/stable/reference/api/pandas.Series.value_counts.html). Your answer can be \"hard-coded\" (i.e. just typed in surrounded by `\"`) or you can find it programmatically.\n",
    "\n",
    "**Caution**: Because of the names of some of the neighborhoods in Ames, there is potential for confusion. Be aware that *North Ames* and *Northwest Ames* appear, shortened to \"NAmes\" and to \"NWAmes\", respectively."
   ]
  },
  {
   "cell_type": "code",
   "execution_count": 29,
   "metadata": {
    "nbgrader": {
     "grade": false,
     "grade_id": "cell-050144af2b9082ec",
     "locked": false,
     "schema_version": 3,
     "solution": true,
     "task": false
    }
   },
   "outputs": [],
   "source": [
    "# CodeGrade step6\n",
    "# Replace None with appropriate code\n",
    "housing_data = df = pd.read_csv('ames_housing.csv')\n",
    "neighborhood_counts = housing_data['Neighborhood'].value_counts()\n",
    "name = neighborhood_counts.idxmax()\n",
    "frequency = neighborhood_counts.max()"
   ]
  },
  {
   "cell_type": "code",
   "execution_count": 30,
   "metadata": {
    "scrolled": true
   },
   "outputs": [
    {
     "name": "stdout",
     "output_type": "stream",
     "text": [
      "Most frequent neighborhood: NAmes\n",
      "Frequency: 225\n"
     ]
    }
   ],
   "source": [
    "# name should be a string\n",
    "assert type(name) == str\n",
    "# frequency should be an integer\n",
    "assert type(frequency) == int or type(frequency) == np.int64\n",
    "\n",
    "print(\"Most frequent neighborhood:\", name)\n",
    "print(\"Frequency:\", frequency)"
   ]
  },
  {
   "cell_type": "code",
   "execution_count": null,
   "metadata": {},
   "outputs": [],
   "source": []
  },
  {
   "cell_type": "code",
   "execution_count": null,
   "metadata": {},
   "outputs": [],
   "source": []
  }
 ],
 "metadata": {
  "celltoolbar": "Create Assignment",
  "kernelspec": {
   "display_name": "Python (learn-env)",
   "language": "python",
   "name": "learn-env"
  },
  "language_info": {
   "codemirror_mode": {
    "name": "ipython",
    "version": 3
   },
   "file_extension": ".py",
   "mimetype": "text/x-python",
   "name": "python",
   "nbconvert_exporter": "python",
   "pygments_lexer": "ipython3",
   "version": "3.8.5"
  }
 },
 "nbformat": 4,
 "nbformat_minor": 4
}
